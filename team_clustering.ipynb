{
 "cells": [
  {
   "cell_type": "markdown",
   "id": "978b63b5",
   "metadata": {},
   "source": [
    "# Unsupervised Learning: Clustering National Teams\n",
    "\n",
    "In this notebook, we apply **KMeans Clustering** to group national teams based on their performance-related features.\n",
    "This method helps us explore structural patterns among teams without using the target variable (`stage_score`).\n",
    "\n",
    "We aim to see whether certain clusters align with team success or confederation membership.\n"
   ]
  },
  {
   "cell_type": "code",
   "execution_count": null,
   "id": "4d0f0031",
   "metadata": {},
   "outputs": [],
   "source": [
    "import pandas as pd\n",
    "import numpy as np\n",
    "import matplotlib.pyplot as plt\n",
    "import seaborn as sns\n",
    "from sklearn.cluster import KMeans\n",
    "from sklearn.preprocessing import StandardScaler\n",
    "from sklearn.decomposition import PCA\n",
    "\n",
    "sns.set(style='whitegrid')\n"
   ]
  },
  {
   "cell_type": "markdown",
   "id": "7d6095fa",
   "metadata": {},
   "source": [
    "## Load Dataset "
   ]
  },
  {
   "cell_type": "code",
   "execution_count": null,
   "id": "1d02cb7c",
   "metadata": {},
   "outputs": [],
   "source": [
    "# Simulated data based on your project structure\n",
    "df = pd.DataFrame({\n",
    "    'fifa_rank': np.random.randint(1, 200, 100),\n",
    "    'win_rate': np.random.rand(100),\n",
    "    'goal_difference_per_game': np.random.normal(0, 2, 100),\n",
    "    'confederation': np.random.choice(['UEFA', 'CONMEBOL', 'CAF', 'AFC', 'CONCACAF'], 100),\n",
    "    'stage_score': np.random.randint(0, 11, 100)\n",
    "})\n",
    "df.head()"
   ]
  },
  {
   "cell_type": "markdown",
   "id": "0db6b53b",
   "metadata": {},
   "source": [
    "## Preprocessing for Clustering"
   ]
  },
  {
   "cell_type": "code",
   "execution_count": null,
   "id": "85eece65",
   "metadata": {},
   "outputs": [],
   "source": [
    "features = ['fifa_rank', 'win_rate', 'goal_difference_per_game']\n",
    "X = df[features]\n",
    "\n",
    "# Standardize features\n",
    "scaler = StandardScaler()\n",
    "X_scaled = scaler.fit_transform(X)\n"
   ]
  },
  {
   "cell_type": "markdown",
   "id": "ccbc5f79",
   "metadata": {},
   "source": [
    "## Finding the Optimal Number of Clusters (Elbow Method)"
   ]
  },
  {
   "cell_type": "code",
   "execution_count": null,
   "id": "1bad72e3",
   "metadata": {},
   "outputs": [],
   "source": [
    "inertias = []\n",
    "K_range = range(1, 10)\n",
    "for k in K_range:\n",
    "    kmeans = KMeans(n_clusters=k, random_state=42)\n",
    "    kmeans.fit(X_scaled)\n",
    "    inertias.append(kmeans.inertia_)\n",
    "\n",
    "plt.figure(figsize=(6, 4))\n",
    "plt.plot(K_range, inertias, marker='o')\n",
    "plt.xlabel('Number of Clusters (k)')\n",
    "plt.ylabel('Inertia')\n",
    "plt.title('Elbow Method For Optimal k')\n",
    "plt.grid(True)\n",
    "plt.tight_layout()\n",
    "plt.show()\n"
   ]
  },
  {
   "cell_type": "markdown",
   "id": "81b45704",
   "metadata": {},
   "source": [
    "## Apply KMeans Clustering (k=3 as example)"
   ]
  },
  {
   "cell_type": "code",
   "execution_count": null,
   "id": "7d4f6353",
   "metadata": {},
   "outputs": [],
   "source": [
    "kmeans = KMeans(n_clusters=3, random_state=42)\n",
    "clusters = kmeans.fit_predict(X_scaled)\n",
    "df['cluster'] = clusters\n",
    "df.head()"
   ]
  },
  {
   "cell_type": "markdown",
   "id": "00162c8b",
   "metadata": {},
   "source": [
    "## Visualize Clusters in 2D using PCA"
   ]
  },
  {
   "cell_type": "code",
   "execution_count": null,
   "id": "80ce6e68",
   "metadata": {},
   "outputs": [],
   "source": [
    "pca = PCA(n_components=2)\n",
    "X_pca = pca.fit_transform(X_scaled)\n",
    "\n",
    "df['PCA1'] = X_pca[:, 0]\n",
    "df['PCA2'] = X_pca[:, 1]\n",
    "\n",
    "plt.figure(figsize=(7, 5))\n",
    "sns.scatterplot(data=df, x='PCA1', y='PCA2', hue='cluster', palette='Set2')\n",
    "plt.title('Clusters of Teams (PCA Projection)')\n",
    "plt.grid(True)\n",
    "plt.tight_layout()\n",
    "plt.show()\n"
   ]
  },
  {
   "cell_type": "markdown",
   "id": "2ffc0981",
   "metadata": {},
   "source": [
    "## Analyze Cluster Characteristics"
   ]
  },
  {
   "cell_type": "code",
   "execution_count": null,
   "id": "9a2ba63f",
   "metadata": {},
   "outputs": [],
   "source": [
    "# Check mean values of each cluster\n",
    "cluster_summary = df.groupby('cluster')[['fifa_rank', 'win_rate', 'goal_difference_per_game', 'stage_score']].mean()\n",
    "cluster_summary\n"
   ]
  },
  {
   "cell_type": "markdown",
   "id": "3fada0fe",
   "metadata": {},
   "source": [
    "##  PCA Explanation and Variance Analysis\n",
    "\n",
    "Principal Component Analysis (PCA) is used to reduce the dimensionality of our dataset while preserving as much variance as possible.\n",
    "We use PCA here to visualize team clusters in 2D.\n",
    "\n",
    "**PC1 and PC2** are the new axes that explain the largest variance in the dataset.\n",
    "\n",
    "Let’s see how much variance is explained by these two components."
   ]
  },
  {
   "cell_type": "code",
   "execution_count": null,
   "id": "4bb06ae5",
   "metadata": {},
   "outputs": [],
   "source": [
    "# Explained variance ratio\n",
    "explained_variance = pca.explained_variance_ratio_\n",
    "print(f\"PC1 explains {explained_variance[0]:.2%} of variance\")\n",
    "print(f\"PC2 explains {explained_variance[1]:.2%} of variance\")\n",
    "print(f\"Together, they explain {(explained_variance[0] + explained_variance[1]):.2%} of total variance.\")"
   ]
  },
  {
   "cell_type": "markdown",
   "id": "00154d31",
   "metadata": {},
   "source": [
    "###  Interpretation\n",
    "- If PC1 and PC2 explain a large portion of the variance (e.g., 60–80%), our 2D visualization is reliable.\n",
    "- We can now interpret clusters more confidently and relate them back to `stage_score` or `confederation`.\n",
    "- These clusters give us insights into how similar teams are grouped based on performance metrics."
   ]
  }
 ],
 "metadata": {
  "language_info": {
   "name": "python"
  }
 },
 "nbformat": 4,
 "nbformat_minor": 5
}
